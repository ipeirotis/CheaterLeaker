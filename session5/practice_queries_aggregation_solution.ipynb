{
  "nbformat": 4,
  "nbformat_minor": 0,
  "metadata": {
    "anaconda-cloud": {},
    "kernelspec": {
      "display_name": "Python 3",
      "language": "python",
      "name": "python3"
    },
    "language_info": {
      "codemirror_mode": {
        "name": "ipython",
        "version": 3
      },
      "file_extension": ".py",
      "mimetype": "text/x-python",
      "name": "python",
      "nbconvert_exporter": "python",
      "pygments_lexer": "ipython3",
      "version": "3.6.6"
    },
    "colab": {
      "name": "Practice Aggregate Queries: Solutions",
      "provenance": [],
      "collapsed_sections": [],
      "include_colab_link": true
    }
  },
  "cells": [
    {
      "cell_type": "markdown",
      "metadata": {
        "id": "view-in-github",
        "colab_type": "text"
      },
      "source": [
        "<a href=\"https://colab.research.google.com/github/ipeirotis/CheaterLeaker/blob/master/session5/practice_queries_aggregation_solution.ipynb\" target=\"_parent\"><img src=\"https://colab.research.google.com/assets/colab-badge.svg\" alt=\"Open In Colab\"/></a>"
      ]
    },
    {
      "cell_type": "markdown",
      "metadata": {
        "id": "SkZqhwkf8NUg",
        "colab_type": "text"
      },
      "source": [
        "# Session 5: Practice Aggregate Queries: Solutions\n",
        "\n",
        "\n",
        "In this segment we will connect to the *Restaurants* database."
      ]
    },
    {
      "cell_type": "markdown",
      "metadata": {
        "id": "5u_6yLTDT6Kn",
        "colab_type": "text"
      },
      "source": [
        "## Setup"
      ]
    },
    {
      "cell_type": "code",
      "metadata": {
        "id": "O9o9NsaO8hMy",
        "colab_type": "code",
        "colab": {}
      },
      "source": [
        "!apt-get install python3-mysqldb\n",
        "!pip install sqlalchemy sql_magic"
      ],
      "execution_count": 0,
      "outputs": []
    },
    {
      "cell_type": "code",
      "metadata": {
        "id": "EkIL-uRK8NUi",
        "colab_type": "code",
        "colab": {}
      },
      "source": [
        "# This code creates a connection to the database\n",
        "from sqlalchemy import create_engine\n",
        "\n",
        "conn_string = 'mysql://{user}:{password}@{host}/{db}?charset={encoding}'.format(\n",
        "    host = 'db.ipeirotis.org', \n",
        "    user = 'student',\n",
        "    db = 'restaurants',\n",
        "    password = 'dwdstudent2015',\n",
        "    encoding = 'utf8mb4')\n",
        "\n",
        "engine = create_engine(conn_string)\n",
        "con = engine.connect()"
      ],
      "execution_count": 0,
      "outputs": []
    },
    {
      "cell_type": "code",
      "metadata": {
        "id": "z7muzQXTUFkU",
        "colab_type": "code",
        "colab": {}
      },
      "source": [
        "%reload_ext sql_magic"
      ],
      "execution_count": 0,
      "outputs": []
    },
    {
      "cell_type": "code",
      "metadata": {
        "id": "uHRIPxBvUGfC",
        "colab_type": "code",
        "colab": {}
      },
      "source": [
        "%config SQL.conn_name = 'engine'"
      ],
      "execution_count": 0,
      "outputs": []
    },
    {
      "cell_type": "markdown",
      "metadata": {
        "id": "H0hhloRRUJlV",
        "colab_type": "text"
      },
      "source": [
        "## Question 1: How many Manhattan restaurants are listed in your database"
      ]
    },
    {
      "cell_type": "code",
      "metadata": {
        "id": "eL_CnyPRUSGI",
        "colab_type": "code",
        "colab": {}
      },
      "source": [
        "%%read_sql\n",
        "SELECT borough, COUNT(*) AS num_restaurants\n",
        "FROM Restaurant\n",
        "WHERE borough = 'Manhattan'\n",
        "GROUP BY borough"
      ],
      "execution_count": 0,
      "outputs": []
    },
    {
      "cell_type": "markdown",
      "metadata": {
        "id": "McZQXcp__OCu",
        "colab_type": "text"
      },
      "source": [
        "## Question 2: Output the affiliation (or '-' for freelancers) and how many critics are associated with this affiliation;"
      ]
    },
    {
      "cell_type": "code",
      "metadata": {
        "id": "W7GayX2v_Nl8",
        "colab_type": "code",
        "colab": {}
      },
      "source": [
        "%%read_sql\n",
        "SELECT affiliation, COUNT(*) AS num_critics\n",
        "FROM Critic\n",
        "GROUP BY affiliation"
      ],
      "execution_count": 0,
      "outputs": []
    },
    {
      "cell_type": "markdown",
      "metadata": {
        "id": "uhU3fLp9RoiR",
        "colab_type": "text"
      },
      "source": [
        "If we want to replace the NULL value in affiliation with `-`,  we use the `COALESCE` command, that replaces NULL with the value that we pass as parameter."
      ]
    },
    {
      "cell_type": "code",
      "metadata": {
        "id": "QSyuhaZZRY-O",
        "colab_type": "code",
        "colab": {}
      },
      "source": [
        "%%read_sql\n",
        "SELECT COALESCE(affiliation, '-') AS affiliation, COUNT(*) AS num_critics\n",
        "FROM Critic\n",
        "GROUP BY affiliation"
      ],
      "execution_count": 0,
      "outputs": []
    },
    {
      "cell_type": "markdown",
      "metadata": {
        "id": "Hz_1yX-EUeBQ",
        "colab_type": "text"
      },
      "source": [
        "## Question 3: Output the critic id together with the maximal star rating ever issued by this critic;"
      ]
    },
    {
      "cell_type": "code",
      "metadata": {
        "id": "HXy0Ygy3Uf_m",
        "colab_type": "code",
        "colab": {}
      },
      "source": [
        "%%read_sql\n",
        "SELECT cID, MAX(starRating) AS maxRating\n",
        "FROM Rating\n",
        "GROUP BY cID"
      ],
      "execution_count": 0,
      "outputs": []
    },
    {
      "cell_type": "markdown",
      "metadata": {
        "colab_type": "text",
        "id": "UozymxRTW-wx"
      },
      "source": [
        "## Question 4: Output the critic id and the restaurant code together with the maximal star rating ever issued by this critic for this restaurant;"
      ]
    },
    {
      "cell_type": "code",
      "metadata": {
        "colab_type": "code",
        "id": "ZwtqsRoGW-wz",
        "colab": {}
      },
      "source": [
        "%%read_sql\n",
        "SELECT cID, restCode, MAX(starRating) AS maxRating\n",
        "FROM Rating\n",
        "GROUP BY cID, restCode"
      ],
      "execution_count": 0,
      "outputs": []
    },
    {
      "cell_type": "markdown",
      "metadata": {
        "colab_type": "text",
        "id": "8NFSCApmXGZ8"
      },
      "source": [
        "## Question 5: For every borough, cuisine pair output the minimal price and order the output by borough in the ascending order (consider only the restaurants outside of Manhattan);"
      ]
    },
    {
      "cell_type": "code",
      "metadata": {
        "colab_type": "code",
        "id": "bcr5iccDXGZ9",
        "colab": {}
      },
      "source": [
        "%%read_sql\n",
        "SELECT borough, cuisine, MIN(avgPrice) AS minPrice\n",
        "FROM Restaurant\n",
        "WHERE borough != 'Manhattan'\n",
        "GROUP BY borough, cuisine"
      ],
      "execution_count": 0,
      "outputs": []
    },
    {
      "cell_type": "markdown",
      "metadata": {
        "id": "nezZleqbUeI_",
        "colab_type": "text"
      },
      "source": [
        "## Question 6: For every borough, cuisine pair output the minimal price where the minimal price is greater than $100;"
      ]
    },
    {
      "cell_type": "code",
      "metadata": {
        "id": "rNfpSzT3UgrM",
        "colab_type": "code",
        "colab": {}
      },
      "source": [
        "%%read_sql\n",
        "SELECT borough, cuisine, MIN(avgPrice) AS minPrice\n",
        "FROM Restaurant\n",
        "GROUP BY borough, cuisine\n",
        "HAVING minPrice>100"
      ],
      "execution_count": 0,
      "outputs": []
    },
    {
      "cell_type": "markdown",
      "metadata": {
        "colab_type": "text",
        "id": "_j2bCzADXODe"
      },
      "source": [
        "## Question 7: For every borough, cuisine pair output the minimal price where the minimal price is greater than $100 and order the output by the price value in the descending order."
      ]
    },
    {
      "cell_type": "code",
      "metadata": {
        "colab_type": "code",
        "id": "o9h005rlXODf",
        "colab": {}
      },
      "source": [
        "%%read_sql\n",
        "SELECT borough, cuisine, MIN(avgPrice) AS minPrice\n",
        "FROM Restaurant\n",
        "GROUP BY borough, cuisine\n",
        "HAVING minPrice>100\n",
        "ORDER BY minPrice DESC"
      ],
      "execution_count": 0,
      "outputs": []
    }
  ]
}